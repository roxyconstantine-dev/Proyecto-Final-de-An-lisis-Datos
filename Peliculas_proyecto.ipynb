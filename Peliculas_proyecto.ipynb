{
  "nbformat": 4,
  "nbformat_minor": 0,
  "metadata": {
    "colab": {
      "provenance": [],
      "authorship_tag": "ABX9TyMJTuivetG0xJWpJVD7FV+N",
      "include_colab_link": true
    },
    "kernelspec": {
      "name": "python3",
      "display_name": "Python 3"
    },
    "language_info": {
      "name": "python"
    }
  },
  "cells": [
    {
      "cell_type": "markdown",
      "metadata": {
        "id": "view-in-github",
        "colab_type": "text"
      },
      "source": [
        "<a href=\"https://colab.research.google.com/github/roxyconstantine-dev/Proyecto-Final-de-An-lisis-Datos/blob/main/Peliculas_proyecto.ipynb\" target=\"_parent\"><img src=\"https://colab.research.google.com/assets/colab-badge.svg\" alt=\"Open In Colab\"/></a>"
      ]
    },
    {
      "cell_type": "code",
      "execution_count": 38,
      "metadata": {
        "colab": {
          "base_uri": "https://localhost:8080/"
        },
        "id": "x1HX3fJ8KZmI",
        "outputId": "6f76da38-4cfa-4f21-dc84-42d3220f2f17"
      },
      "outputs": [
        {
          "output_type": "stream",
          "name": "stdout",
          "text": [
            "      Pelicula                               Titulo   Clasificacion 1  \\\n",
            "0            1                           Toy Story          Animation   \n",
            "1            2                             Jumanji           Children   \n",
            "2            3                    Grumpier Old Men            Romance   \n",
            "3            4                   Waiting to Exhale              Drama   \n",
            "4            5         Father of the Bride Part II   no-genres-listed   \n",
            "...        ...                                  ...               ...   \n",
            "9737    193581  Black Butler: Book of the Atlantic          Animation   \n",
            "9738    193583               No Game No Life: Zero             Comedy   \n",
            "9739    193585                               Flint   no-genres-listed   \n",
            "9740    193587        Bungo Stray Dogs: Dead Apple          Animation   \n",
            "9741    193609        Andrew Dice Clay: Dice Rules   no-genres-listed   \n",
            "\n",
            "       Clasificacion 2  year  rating   imdbId    tmdbId  \n",
            "0             Children  1995     4.0   114709     862.0  \n",
            "1              Fantasy  1995     4.0   113497    8844.0  \n",
            "2     no-genres-listed  1995     4.5   113228   15602.0  \n",
            "3              Romance  1995     2.5   114885   31357.0  \n",
            "4     no-genres-listed  1995     4.5   113041   11862.0  \n",
            "...                ...   ...     ...      ...       ...  \n",
            "9737            Comedy  2017     5.0  5476944  432131.0  \n",
            "9738           Fantasy  2017     4.0  5914996  445030.0  \n",
            "9739  no-genres-listed  2017     4.0  6397426  479308.0  \n",
            "9740  no-genres-listed  2018     3.0  8391976  483455.0  \n",
            "9741  no-genres-listed  1991     3.0   101726   37891.0  \n",
            "\n",
            "[9742 rows x 8 columns]\n"
          ]
        }
      ],
      "source": [
        "import pandas as pd\n",
        "import numpy as np\n",
        "\n",
        "from sklearn.decomposition import FactorAnalysis, PCA\n",
        "from sklearn.cluster import AgglomerativeClustering\n",
        "from scipy.cluster.hierarchy import dendrogram, linkage\n",
        "\n",
        "from sklearn.preprocessing import StandardScaler\n",
        "from sklearn.metrics import accuracy_score,confusion_matrix\n",
        "from sklearn.model_selection import train_test_split, RandomizedSearchCV, learning_curve\n",
        "\n",
        "from sklearn.discriminant_analysis import LinearDiscriminantAnalysis\n",
        "from sklearn.naive_bayes import GaussianNB\n",
        "from sklearn.linear_model import LogisticRegression\n",
        "from sklearn.cluster import KMeans\n",
        "import math\n",
        "import seaborn as sns\n",
        "import matplotlib.pyplot as plt\n",
        "from scipy.stats import uniform\n",
        "import statistics as stats\n",
        "import pandas as pd\n",
        "import numpy as np\n",
        "\n",
        "from sklearn.preprocessing import StandardScaler\n",
        "import matplotlib.pyplot as plt\n",
        "\n",
        "# Chapter 4&5\n",
        "from sklearn.decomposition import PCA\n",
        "\n",
        "# Chapter 6\n",
        "from sklearn.decomposition import IncrementalPCA\n",
        "\n",
        "# Chapter 7\n",
        "from sklearn.decomposition import KernelPCA\n",
        "from sklearn.datasets import make_swiss_roll\n",
        "\n",
        "from mpl_toolkits.mplot3d import Axes3D\n",
        "#from pydiffmap import diffusion_map as dm\n",
        "#from pydiffmap.visualization import data_plot\n",
        "\n",
        "# Chapter 8\n",
        "from sklearn.model_selection import GridSearchCV\n",
        "from sklearn.linear_model import LogisticRegression\n",
        "from sklearn.pipeline import Pipeline\n",
        "from sklearn.datasets import make_moons\n",
        "from sklearn.model_selection import train_test_split\n",
        "import plotly.express as px \n",
        "import pandas as pd\n",
        "url=\"https://github.com/roxyconstantine-dev/Proyecto-Final-de-An-lisis-Datos/blob/main/Peliculas.xlsx?raw=true\"\n",
        "datos=pd.read_excel(url)\n",
        "datos1 = datos.drop(datos.columns[[8,9,10,11,12,13,14,15,16]], axis='columns')\n",
        "print(datos1)"
      ]
    },
    {
      "cell_type": "code",
      "source": [
        "datos1.isnull().sum()\n"
      ],
      "metadata": {
        "colab": {
          "base_uri": "https://localhost:8080/"
        },
        "id": "WvSKC3s8Kxnp",
        "outputId": "4534ad0b-86c3-469c-9753-22c4e385195d"
      },
      "execution_count": 40,
      "outputs": [
        {
          "output_type": "execute_result",
          "data": {
            "text/plain": [
              "Pelicula            0\n",
              "Titulo              1\n",
              "Clasificacion 1     0\n",
              "Clasificacion 2     0\n",
              "year               14\n",
              "rating              0\n",
              "imdbId              0\n",
              "tmdbId              8\n",
              "dtype: int64"
            ]
          },
          "metadata": {},
          "execution_count": 40
        }
      ]
    }
  ]
}